{
 "cells": [
  {
   "cell_type": "code",
   "execution_count": 138,
   "metadata": {},
   "outputs": [],
   "source": [
    "import praw\n",
    "import pprint\n",
    "import textwrap\n",
    "import json\n",
    "from hashlib import sha1\n",
    "from graphviz import Digraph\n",
    "from credentials import ID, SECRET\n",
    "from praw.models import MoreComments as more"
   ]
  },
  {
   "cell_type": "code",
   "execution_count": 1,
   "metadata": {},
   "outputs": [],
   "source": [
    "reddit = praw.Reddit(\n",
    "    client_id=ID,\n",
    "    client_secret=SECRET,\n",
    "    user_agent=\"The Rhetor Project\"\n",
    ")\n",
    "\n",
    "post = reddit.submission(id=\"17llow9\")\n",
    "topic = post.title[5:]\n",
    "desc = post.selftext\n",
    "comments = post.comments"
   ]
  },
  {
   "cell_type": "code",
   "execution_count": 147,
   "metadata": {},
   "outputs": [],
   "source": [
    "pruned = [0, 0, 0]\n",
    "vis = Digraph(format='png')\n",
    "\n",
    "def process(parent, comment):\n",
    "    cur = {\n",
    "        \"state\": comment.body,\n",
    "        \"id\": comment.id,\n",
    "        \"name\": sha1(f\"{comment.author.name}\".encode()).hexdigest(),\n",
    "        \"depth\": comment.depth+1,\n",
    "        \"rank\": comment.author_flair_text[:-1] if comment.author_flair_text else '0',\n",
    "        \"score\": comment.score if not comment.score_hidden else 0,\n",
    "        \"spicy\": bool(comment.controversiality),\n",
    "        \"agree\": None,\n",
    "        \"replies\": []\n",
    "    }\n",
    "    \n",
    "    # Prune\n",
    "    if not cur[\"spicy\"] and cur[\"score\"] < 3:\n",
    "        pruned[0] += 1; return None\n",
    "    if len(comment.body) < 50:\n",
    "        pruned[1] += 1; return None\n",
    "\n",
    "    for r in comment.replies:\n",
    "        if isinstance(r, more) or r.author is None: continue\n",
    "        replyThread = process(cur[\"id\"], r)  # Recurse\n",
    "        if replyThread: cur[\"replies\"].append(replyThread)\n",
    "\n",
    "    # Depth prune\n",
    "    if not cur[\"replies\"] and cur[\"depth\"] < 3: \n",
    "        pruned[2] += 1; return None\n",
    "\n",
    "\n",
    "    vis.node(cur[\"id\"], label=cur[\"state\"], shape='box') # Add node\n",
    "    vis.node(cur[\"id\"], label=f\"{textwrap.fill(cur['state'], 25)[:100]}{'...' if len(cur['state'])>100 else ''}\", shape='box')\n",
    "\n",
    "    edge_color = 'black' if cur[\"agree\"] is None else ('green' if cur[\"agree\"] else 'red')\n",
    "    edge_label = '?' if cur[\"agree\"] is None else ('Agree' if cur[\"agree\"] else 'Disagree')\n",
    "    \n",
    "    # Create edge \n",
    "    vis.edge(parent, cur[\"id\"], label=edge_label, color=edge_color, fontcolor=edge_color)\n",
    "\n",
    "    return cur\n",
    "\n",
    "\n",
    "def traverse(comments):\n",
    "    replies = []\n",
    "    vis.node(\"root\", label=tree[\"root\"][\"state\"], shape='box')  # Add root\n",
    "    for c in comments:\n",
    "        if isinstance(c, more) or c.stickied: continue\n",
    "        if c.author is None: continue\n",
    "        replies.append(process(\"root\", c))\n",
    "    return replies\n",
    "\n",
    "tree = {\n",
    "    \"root\": {\n",
    "        \"state\": topic,\n",
    "        \"replies\": traverse(comments)\n",
    "    }\n",
    "}"
   ]
  },
  {
   "cell_type": "code",
   "execution_count": 149,
   "metadata": {},
   "outputs": [
    {
     "name": "stdout",
     "output_type": "stream",
     "text": [
      "Pruned comments:\n",
      "\t46 with low engagement\n",
      "\t11 were too short\n",
      "\t54 from shallow threads\n",
      "\n"
     ]
    },
    {
     "data": {
      "text/plain": [
       "'tree.png'"
      ]
     },
     "execution_count": 149,
     "metadata": {},
     "output_type": "execute_result"
    }
   ],
   "source": [
    "pp = pprint.PrettyPrinter(indent=4, sort_dicts=False)\n",
    "# pp.pprint(tree)\n",
    "json.dump(tree, open(\"tree.json\", \"w\"), indent=4, sort_keys=False)\n",
    "\n",
    "print(\n",
    "\t\"Pruned comments:\\n\"\n",
    "\tf\"\\t{pruned[0]} with low engagement\\n\"\n",
    "\tf\"\\t{pruned[1]} were too short\\n\"\n",
    "\tf\"\\t{pruned[2]} from shallow threads\\n\"\n",
    ")\n",
    "\n",
    "vis.render('tree', view=True)"
   ]
  },
  {
   "cell_type": "markdown",
   "metadata": {},
   "source": []
  }
 ],
 "metadata": {
  "kernelspec": {
   "display_name": "Python 3",
   "language": "python",
   "name": "python3"
  },
  "language_info": {
   "codemirror_mode": {
    "name": "ipython",
    "version": 3
   },
   "file_extension": ".py",
   "mimetype": "text/x-python",
   "name": "python",
   "nbconvert_exporter": "python",
   "pygments_lexer": "ipython3",
   "version": "3.11.6"
  }
 },
 "nbformat": 4,
 "nbformat_minor": 2
}
